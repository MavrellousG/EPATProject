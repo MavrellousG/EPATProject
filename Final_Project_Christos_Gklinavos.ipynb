{
 "cells": [
  {
   "cell_type": "code",
   "execution_count": 5,
   "metadata": {},
   "outputs": [],
   "source": [
    "import pandas as pd\n",
    "import numpy as np\n",
    "import matplotlib.pyplot as plt\n",
    "import csv"
   ]
  },
  {
   "cell_type": "code",
   "execution_count": 6,
   "metadata": {},
   "outputs": [],
   "source": [
    "from talib import RSI, EMA, SMA\n",
    "from sklearn.model_selection import train_test_split\n",
    "from sklearn.ensemble import RandomForestRegressor"
   ]
  },
  {
   "cell_type": "code",
   "execution_count": 7,
   "metadata": {},
   "outputs": [],
   "source": [
    "import GetOldTweets3 as got"
   ]
  },
  {
   "cell_type": "code",
   "execution_count": null,
   "metadata": {},
   "outputs": [],
   "source": [
    "from textblob import TextBlob\n",
    "#python -m textblob.download_corpora"
   ]
  },
  {
   "cell_type": "code",
   "execution_count": 23,
   "metadata": {},
   "outputs": [],
   "source": [
    "import re"
   ]
  },
  {
   "cell_type": "code",
   "execution_count": 9,
   "metadata": {},
   "outputs": [],
   "source": [
    "df=pd.read_csv(\"forex.csv\", index_col=0, parse_dates=True)"
   ]
  },
  {
   "cell_type": "code",
   "execution_count": 10,
   "metadata": {},
   "outputs": [
    {
     "data": {
      "text/html": [
       "<div>\n",
       "<style scoped>\n",
       "    .dataframe tbody tr th:only-of-type {\n",
       "        vertical-align: middle;\n",
       "    }\n",
       "\n",
       "    .dataframe tbody tr th {\n",
       "        vertical-align: top;\n",
       "    }\n",
       "\n",
       "    .dataframe thead th {\n",
       "        text-align: right;\n",
       "    }\n",
       "</style>\n",
       "<table border=\"1\" class=\"dataframe\">\n",
       "  <thead>\n",
       "    <tr style=\"text-align: right;\">\n",
       "      <th></th>\n",
       "      <th>open</th>\n",
       "      <th>high</th>\n",
       "      <th>low</th>\n",
       "      <th>close</th>\n",
       "      <th>volume</th>\n",
       "    </tr>\n",
       "    <tr>\n",
       "      <th>date</th>\n",
       "      <th></th>\n",
       "      <th></th>\n",
       "      <th></th>\n",
       "      <th></th>\n",
       "      <th></th>\n",
       "    </tr>\n",
       "  </thead>\n",
       "  <tbody>\n",
       "    <tr>\n",
       "      <th>2011-03-29</th>\n",
       "      <td>1.4086</td>\n",
       "      <td>1.4148</td>\n",
       "      <td>1.4047</td>\n",
       "      <td>1.4113</td>\n",
       "      <td>64044</td>\n",
       "    </tr>\n",
       "    <tr>\n",
       "      <th>2011-03-30</th>\n",
       "      <td>1.4113</td>\n",
       "      <td>1.4146</td>\n",
       "      <td>1.4052</td>\n",
       "      <td>1.4126</td>\n",
       "      <td>70281</td>\n",
       "    </tr>\n",
       "    <tr>\n",
       "      <th>2011-03-31</th>\n",
       "      <td>1.4127</td>\n",
       "      <td>1.4232</td>\n",
       "      <td>1.4116</td>\n",
       "      <td>1.4174</td>\n",
       "      <td>73492</td>\n",
       "    </tr>\n",
       "    <tr>\n",
       "      <th>2011-04-01</th>\n",
       "      <td>1.4173</td>\n",
       "      <td>1.4245</td>\n",
       "      <td>1.4061</td>\n",
       "      <td>1.4234</td>\n",
       "      <td>70943</td>\n",
       "    </tr>\n",
       "    <tr>\n",
       "      <th>2011-04-04</th>\n",
       "      <td>1.4231</td>\n",
       "      <td>1.4268</td>\n",
       "      <td>1.4192</td>\n",
       "      <td>1.4218</td>\n",
       "      <td>61094</td>\n",
       "    </tr>\n",
       "  </tbody>\n",
       "</table>\n",
       "</div>"
      ],
      "text/plain": [
       "              open    high     low   close  volume\n",
       "date                                              \n",
       "2011-03-29  1.4086  1.4148  1.4047  1.4113   64044\n",
       "2011-03-30  1.4113  1.4146  1.4052  1.4126   70281\n",
       "2011-03-31  1.4127  1.4232  1.4116  1.4174   73492\n",
       "2011-04-01  1.4173  1.4245  1.4061  1.4234   70943\n",
       "2011-04-04  1.4231  1.4268  1.4192  1.4218   61094"
      ]
     },
     "execution_count": 10,
     "metadata": {},
     "output_type": "execute_result"
    }
   ],
   "source": [
    "df.head()\n"
   ]
  },
  {
   "cell_type": "code",
   "execution_count": 11,
   "metadata": {},
   "outputs": [],
   "source": [
    "df.columns=[[\"open\",\"high\",\"low\", \"close\", \"volume\"]]"
   ]
  },
  {
   "cell_type": "code",
   "execution_count": 12,
   "metadata": {},
   "outputs": [
    {
     "data": {
      "text/plain": [
       "(2048, 5)"
      ]
     },
     "execution_count": 12,
     "metadata": {},
     "output_type": "execute_result"
    }
   ],
   "source": [
    "df=df.dropna()\n",
    "df.head()\n",
    "df.shape"
   ]
  },
  {
   "cell_type": "code",
   "execution_count": 13,
   "metadata": {},
   "outputs": [],
   "source": [
    "ema_period=5\n",
    "rsi_period=10"
   ]
  },
  {
   "cell_type": "code",
   "execution_count": 14,
   "metadata": {},
   "outputs": [],
   "source": [
    "df[\"ema\"]=df[\"close\"].apply(lambda row: EMA(row,timeperiod=ema_period))"
   ]
  },
  {
   "cell_type": "code",
   "execution_count": 15,
   "metadata": {},
   "outputs": [],
   "source": [
    "df[\"rsi\"]=df[\"close\"].apply(lambda row: RSI(row,timeperiod=rsi_period))"
   ]
  },
  {
   "cell_type": "code",
   "execution_count": 16,
   "metadata": {},
   "outputs": [
    {
     "data": {
      "text/html": [
       "<div>\n",
       "<style scoped>\n",
       "    .dataframe tbody tr th:only-of-type {\n",
       "        vertical-align: middle;\n",
       "    }\n",
       "\n",
       "    .dataframe tbody tr th {\n",
       "        vertical-align: top;\n",
       "    }\n",
       "\n",
       "    .dataframe thead tr th {\n",
       "        text-align: left;\n",
       "    }\n",
       "\n",
       "    .dataframe thead tr:last-of-type th {\n",
       "        text-align: right;\n",
       "    }\n",
       "</style>\n",
       "<table border=\"1\" class=\"dataframe\">\n",
       "  <thead>\n",
       "    <tr>\n",
       "      <th></th>\n",
       "      <th>open</th>\n",
       "      <th>high</th>\n",
       "      <th>low</th>\n",
       "      <th>close</th>\n",
       "      <th>volume</th>\n",
       "      <th>ema</th>\n",
       "      <th>rsi</th>\n",
       "    </tr>\n",
       "    <tr>\n",
       "      <th>date</th>\n",
       "      <th></th>\n",
       "      <th></th>\n",
       "      <th></th>\n",
       "      <th></th>\n",
       "      <th></th>\n",
       "      <th></th>\n",
       "      <th></th>\n",
       "    </tr>\n",
       "  </thead>\n",
       "  <tbody>\n",
       "    <tr>\n",
       "      <th>2011-03-29</th>\n",
       "      <td>1.4086</td>\n",
       "      <td>1.4148</td>\n",
       "      <td>1.4047</td>\n",
       "      <td>1.4113</td>\n",
       "      <td>64044</td>\n",
       "      <td>NaN</td>\n",
       "      <td>NaN</td>\n",
       "    </tr>\n",
       "    <tr>\n",
       "      <th>2011-03-30</th>\n",
       "      <td>1.4113</td>\n",
       "      <td>1.4146</td>\n",
       "      <td>1.4052</td>\n",
       "      <td>1.4126</td>\n",
       "      <td>70281</td>\n",
       "      <td>NaN</td>\n",
       "      <td>NaN</td>\n",
       "    </tr>\n",
       "    <tr>\n",
       "      <th>2011-03-31</th>\n",
       "      <td>1.4127</td>\n",
       "      <td>1.4232</td>\n",
       "      <td>1.4116</td>\n",
       "      <td>1.4174</td>\n",
       "      <td>73492</td>\n",
       "      <td>NaN</td>\n",
       "      <td>NaN</td>\n",
       "    </tr>\n",
       "    <tr>\n",
       "      <th>2011-04-01</th>\n",
       "      <td>1.4173</td>\n",
       "      <td>1.4245</td>\n",
       "      <td>1.4061</td>\n",
       "      <td>1.4234</td>\n",
       "      <td>70943</td>\n",
       "      <td>NaN</td>\n",
       "      <td>NaN</td>\n",
       "    </tr>\n",
       "    <tr>\n",
       "      <th>2011-04-04</th>\n",
       "      <td>1.4231</td>\n",
       "      <td>1.4268</td>\n",
       "      <td>1.4192</td>\n",
       "      <td>1.4218</td>\n",
       "      <td>61094</td>\n",
       "      <td>1.417300</td>\n",
       "      <td>NaN</td>\n",
       "    </tr>\n",
       "    <tr>\n",
       "      <th>2011-04-05</th>\n",
       "      <td>1.4218</td>\n",
       "      <td>1.4245</td>\n",
       "      <td>1.4151</td>\n",
       "      <td>1.4218</td>\n",
       "      <td>62421</td>\n",
       "      <td>1.418800</td>\n",
       "      <td>NaN</td>\n",
       "    </tr>\n",
       "    <tr>\n",
       "      <th>2011-04-06</th>\n",
       "      <td>1.4218</td>\n",
       "      <td>1.4348</td>\n",
       "      <td>1.4217</td>\n",
       "      <td>1.4331</td>\n",
       "      <td>67438</td>\n",
       "      <td>1.423567</td>\n",
       "      <td>NaN</td>\n",
       "    </tr>\n",
       "    <tr>\n",
       "      <th>2011-04-07</th>\n",
       "      <td>1.4330</td>\n",
       "      <td>1.4336</td>\n",
       "      <td>1.4243</td>\n",
       "      <td>1.4304</td>\n",
       "      <td>71548</td>\n",
       "      <td>1.425844</td>\n",
       "      <td>NaN</td>\n",
       "    </tr>\n",
       "    <tr>\n",
       "      <th>2011-04-08</th>\n",
       "      <td>1.4303</td>\n",
       "      <td>1.4487</td>\n",
       "      <td>1.4291</td>\n",
       "      <td>1.4482</td>\n",
       "      <td>69625</td>\n",
       "      <td>1.433296</td>\n",
       "      <td>NaN</td>\n",
       "    </tr>\n",
       "    <tr>\n",
       "      <th>2011-04-11</th>\n",
       "      <td>1.4452</td>\n",
       "      <td>1.4483</td>\n",
       "      <td>1.4421</td>\n",
       "      <td>1.4432</td>\n",
       "      <td>61152</td>\n",
       "      <td>1.436598</td>\n",
       "      <td>NaN</td>\n",
       "    </tr>\n",
       "    <tr>\n",
       "      <th>2011-04-12</th>\n",
       "      <td>1.4434</td>\n",
       "      <td>1.4518</td>\n",
       "      <td>1.4377</td>\n",
       "      <td>1.4478</td>\n",
       "      <td>78914</td>\n",
       "      <td>1.440332</td>\n",
       "      <td>83.121597</td>\n",
       "    </tr>\n",
       "    <tr>\n",
       "      <th>2011-04-13</th>\n",
       "      <td>1.4478</td>\n",
       "      <td>1.4519</td>\n",
       "      <td>1.4413</td>\n",
       "      <td>1.4440</td>\n",
       "      <td>72407</td>\n",
       "      <td>1.441554</td>\n",
       "      <td>77.205469</td>\n",
       "    </tr>\n",
       "    <tr>\n",
       "      <th>2011-04-14</th>\n",
       "      <td>1.4440</td>\n",
       "      <td>1.4514</td>\n",
       "      <td>1.4365</td>\n",
       "      <td>1.4486</td>\n",
       "      <td>73809</td>\n",
       "      <td>1.443903</td>\n",
       "      <td>79.196976</td>\n",
       "    </tr>\n",
       "    <tr>\n",
       "      <th>2011-04-15</th>\n",
       "      <td>1.4486</td>\n",
       "      <td>1.4503</td>\n",
       "      <td>1.4390</td>\n",
       "      <td>1.4429</td>\n",
       "      <td>67446</td>\n",
       "      <td>1.443569</td>\n",
       "      <td>70.693348</td>\n",
       "    </tr>\n",
       "    <tr>\n",
       "      <th>2011-04-18</th>\n",
       "      <td>1.4416</td>\n",
       "      <td>1.4420</td>\n",
       "      <td>1.4157</td>\n",
       "      <td>1.4227</td>\n",
       "      <td>78429</td>\n",
       "      <td>1.436612</td>\n",
       "      <td>49.686256</td>\n",
       "    </tr>\n",
       "    <tr>\n",
       "      <th>2011-04-19</th>\n",
       "      <td>1.4227</td>\n",
       "      <td>1.4352</td>\n",
       "      <td>1.4205</td>\n",
       "      <td>1.4331</td>\n",
       "      <td>73380</td>\n",
       "      <td>1.435442</td>\n",
       "      <td>56.996482</td>\n",
       "    </tr>\n",
       "    <tr>\n",
       "      <th>2011-04-20</th>\n",
       "      <td>1.4331</td>\n",
       "      <td>1.4544</td>\n",
       "      <td>1.4328</td>\n",
       "      <td>1.4521</td>\n",
       "      <td>81284</td>\n",
       "      <td>1.440994</td>\n",
       "      <td>66.790908</td>\n",
       "    </tr>\n",
       "    <tr>\n",
       "      <th>2011-04-21</th>\n",
       "      <td>1.4521</td>\n",
       "      <td>1.4648</td>\n",
       "      <td>1.4505</td>\n",
       "      <td>1.4550</td>\n",
       "      <td>73069</td>\n",
       "      <td>1.445663</td>\n",
       "      <td>68.025930</td>\n",
       "    </tr>\n",
       "    <tr>\n",
       "      <th>2011-04-22</th>\n",
       "      <td>1.4550</td>\n",
       "      <td>1.4587</td>\n",
       "      <td>1.4534</td>\n",
       "      <td>1.4560</td>\n",
       "      <td>34293</td>\n",
       "      <td>1.449109</td>\n",
       "      <td>68.475120</td>\n",
       "    </tr>\n",
       "    <tr>\n",
       "      <th>2011-04-25</th>\n",
       "      <td>1.4560</td>\n",
       "      <td>1.4626</td>\n",
       "      <td>1.4525</td>\n",
       "      <td>1.4578</td>\n",
       "      <td>55776</td>\n",
       "      <td>1.452006</td>\n",
       "      <td>69.336674</td>\n",
       "    </tr>\n",
       "  </tbody>\n",
       "</table>\n",
       "</div>"
      ],
      "text/plain": [
       "              open    high     low   close volume       ema        rsi\n",
       "date                                                                  \n",
       "2011-03-29  1.4086  1.4148  1.4047  1.4113  64044       NaN        NaN\n",
       "2011-03-30  1.4113  1.4146  1.4052  1.4126  70281       NaN        NaN\n",
       "2011-03-31  1.4127  1.4232  1.4116  1.4174  73492       NaN        NaN\n",
       "2011-04-01  1.4173  1.4245  1.4061  1.4234  70943       NaN        NaN\n",
       "2011-04-04  1.4231  1.4268  1.4192  1.4218  61094  1.417300        NaN\n",
       "2011-04-05  1.4218  1.4245  1.4151  1.4218  62421  1.418800        NaN\n",
       "2011-04-06  1.4218  1.4348  1.4217  1.4331  67438  1.423567        NaN\n",
       "2011-04-07  1.4330  1.4336  1.4243  1.4304  71548  1.425844        NaN\n",
       "2011-04-08  1.4303  1.4487  1.4291  1.4482  69625  1.433296        NaN\n",
       "2011-04-11  1.4452  1.4483  1.4421  1.4432  61152  1.436598        NaN\n",
       "2011-04-12  1.4434  1.4518  1.4377  1.4478  78914  1.440332  83.121597\n",
       "2011-04-13  1.4478  1.4519  1.4413  1.4440  72407  1.441554  77.205469\n",
       "2011-04-14  1.4440  1.4514  1.4365  1.4486  73809  1.443903  79.196976\n",
       "2011-04-15  1.4486  1.4503  1.4390  1.4429  67446  1.443569  70.693348\n",
       "2011-04-18  1.4416  1.4420  1.4157  1.4227  78429  1.436612  49.686256\n",
       "2011-04-19  1.4227  1.4352  1.4205  1.4331  73380  1.435442  56.996482\n",
       "2011-04-20  1.4331  1.4544  1.4328  1.4521  81284  1.440994  66.790908\n",
       "2011-04-21  1.4521  1.4648  1.4505  1.4550  73069  1.445663  68.025930\n",
       "2011-04-22  1.4550  1.4587  1.4534  1.4560  34293  1.449109  68.475120\n",
       "2011-04-25  1.4560  1.4626  1.4525  1.4578  55776  1.452006  69.336674"
      ]
     },
     "execution_count": 16,
     "metadata": {},
     "output_type": "execute_result"
    }
   ],
   "source": [
    "df.head(20)"
   ]
  },
  {
   "cell_type": "code",
   "execution_count": 17,
   "metadata": {},
   "outputs": [],
   "source": [
    "df.dropna(inplace=True)"
   ]
  },
  {
   "cell_type": "code",
   "execution_count": 18,
   "metadata": {},
   "outputs": [],
   "source": [
    "df[\"close_nextday\"]=df.close.shift(-1)"
   ]
  },
  {
   "cell_type": "code",
   "execution_count": 19,
   "metadata": {},
   "outputs": [
    {
     "data": {
      "text/html": [
       "<div>\n",
       "<style scoped>\n",
       "    .dataframe tbody tr th:only-of-type {\n",
       "        vertical-align: middle;\n",
       "    }\n",
       "\n",
       "    .dataframe tbody tr th {\n",
       "        vertical-align: top;\n",
       "    }\n",
       "\n",
       "    .dataframe thead tr th {\n",
       "        text-align: left;\n",
       "    }\n",
       "\n",
       "    .dataframe thead tr:last-of-type th {\n",
       "        text-align: right;\n",
       "    }\n",
       "</style>\n",
       "<table border=\"1\" class=\"dataframe\">\n",
       "  <thead>\n",
       "    <tr>\n",
       "      <th></th>\n",
       "      <th>open</th>\n",
       "      <th>high</th>\n",
       "      <th>low</th>\n",
       "      <th>close</th>\n",
       "      <th>volume</th>\n",
       "      <th>ema</th>\n",
       "      <th>rsi</th>\n",
       "      <th>close_nextday</th>\n",
       "    </tr>\n",
       "    <tr>\n",
       "      <th>date</th>\n",
       "      <th></th>\n",
       "      <th></th>\n",
       "      <th></th>\n",
       "      <th></th>\n",
       "      <th></th>\n",
       "      <th></th>\n",
       "      <th></th>\n",
       "      <th></th>\n",
       "    </tr>\n",
       "  </thead>\n",
       "  <tbody>\n",
       "    <tr>\n",
       "      <th>2011-04-12</th>\n",
       "      <td>1.4434</td>\n",
       "      <td>1.4518</td>\n",
       "      <td>1.4377</td>\n",
       "      <td>1.4478</td>\n",
       "      <td>78914</td>\n",
       "      <td>1.440332</td>\n",
       "      <td>83.121597</td>\n",
       "      <td>1.4440</td>\n",
       "    </tr>\n",
       "    <tr>\n",
       "      <th>2011-04-13</th>\n",
       "      <td>1.4478</td>\n",
       "      <td>1.4519</td>\n",
       "      <td>1.4413</td>\n",
       "      <td>1.4440</td>\n",
       "      <td>72407</td>\n",
       "      <td>1.441554</td>\n",
       "      <td>77.205469</td>\n",
       "      <td>1.4486</td>\n",
       "    </tr>\n",
       "    <tr>\n",
       "      <th>2011-04-14</th>\n",
       "      <td>1.4440</td>\n",
       "      <td>1.4514</td>\n",
       "      <td>1.4365</td>\n",
       "      <td>1.4486</td>\n",
       "      <td>73809</td>\n",
       "      <td>1.443903</td>\n",
       "      <td>79.196976</td>\n",
       "      <td>1.4429</td>\n",
       "    </tr>\n",
       "    <tr>\n",
       "      <th>2011-04-15</th>\n",
       "      <td>1.4486</td>\n",
       "      <td>1.4503</td>\n",
       "      <td>1.4390</td>\n",
       "      <td>1.4429</td>\n",
       "      <td>67446</td>\n",
       "      <td>1.443569</td>\n",
       "      <td>70.693348</td>\n",
       "      <td>1.4227</td>\n",
       "    </tr>\n",
       "    <tr>\n",
       "      <th>2011-04-18</th>\n",
       "      <td>1.4416</td>\n",
       "      <td>1.4420</td>\n",
       "      <td>1.4157</td>\n",
       "      <td>1.4227</td>\n",
       "      <td>78429</td>\n",
       "      <td>1.436612</td>\n",
       "      <td>49.686256</td>\n",
       "      <td>1.4331</td>\n",
       "    </tr>\n",
       "    <tr>\n",
       "      <th>2011-04-19</th>\n",
       "      <td>1.4227</td>\n",
       "      <td>1.4352</td>\n",
       "      <td>1.4205</td>\n",
       "      <td>1.4331</td>\n",
       "      <td>73380</td>\n",
       "      <td>1.435442</td>\n",
       "      <td>56.996482</td>\n",
       "      <td>1.4521</td>\n",
       "    </tr>\n",
       "    <tr>\n",
       "      <th>2011-04-20</th>\n",
       "      <td>1.4331</td>\n",
       "      <td>1.4544</td>\n",
       "      <td>1.4328</td>\n",
       "      <td>1.4521</td>\n",
       "      <td>81284</td>\n",
       "      <td>1.440994</td>\n",
       "      <td>66.790908</td>\n",
       "      <td>1.4550</td>\n",
       "    </tr>\n",
       "    <tr>\n",
       "      <th>2011-04-21</th>\n",
       "      <td>1.4521</td>\n",
       "      <td>1.4648</td>\n",
       "      <td>1.4505</td>\n",
       "      <td>1.4550</td>\n",
       "      <td>73069</td>\n",
       "      <td>1.445663</td>\n",
       "      <td>68.025930</td>\n",
       "      <td>1.4560</td>\n",
       "    </tr>\n",
       "    <tr>\n",
       "      <th>2011-04-22</th>\n",
       "      <td>1.4550</td>\n",
       "      <td>1.4587</td>\n",
       "      <td>1.4534</td>\n",
       "      <td>1.4560</td>\n",
       "      <td>34293</td>\n",
       "      <td>1.449109</td>\n",
       "      <td>68.475120</td>\n",
       "      <td>1.4578</td>\n",
       "    </tr>\n",
       "    <tr>\n",
       "      <th>2011-04-25</th>\n",
       "      <td>1.4560</td>\n",
       "      <td>1.4626</td>\n",
       "      <td>1.4525</td>\n",
       "      <td>1.4578</td>\n",
       "      <td>55776</td>\n",
       "      <td>1.452006</td>\n",
       "      <td>69.336674</td>\n",
       "      <td>1.4647</td>\n",
       "    </tr>\n",
       "    <tr>\n",
       "      <th>2011-04-26</th>\n",
       "      <td>1.4578</td>\n",
       "      <td>1.4656</td>\n",
       "      <td>1.4493</td>\n",
       "      <td>1.4647</td>\n",
       "      <td>65412</td>\n",
       "      <td>1.456237</td>\n",
       "      <td>72.533810</td>\n",
       "      <td>1.4771</td>\n",
       "    </tr>\n",
       "    <tr>\n",
       "      <th>2011-04-27</th>\n",
       "      <td>1.4647</td>\n",
       "      <td>1.4795</td>\n",
       "      <td>1.4632</td>\n",
       "      <td>1.4771</td>\n",
       "      <td>72419</td>\n",
       "      <td>1.463191</td>\n",
       "      <td>77.266772</td>\n",
       "      <td>1.4823</td>\n",
       "    </tr>\n",
       "    <tr>\n",
       "      <th>2011-04-28</th>\n",
       "      <td>1.4772</td>\n",
       "      <td>1.4881</td>\n",
       "      <td>1.4771</td>\n",
       "      <td>1.4823</td>\n",
       "      <td>68646</td>\n",
       "      <td>1.469561</td>\n",
       "      <td>78.956410</td>\n",
       "      <td>1.4806</td>\n",
       "    </tr>\n",
       "    <tr>\n",
       "      <th>2011-04-29</th>\n",
       "      <td>1.4823</td>\n",
       "      <td>1.4877</td>\n",
       "      <td>1.4803</td>\n",
       "      <td>1.4806</td>\n",
       "      <td>50086</td>\n",
       "      <td>1.473241</td>\n",
       "      <td>76.880764</td>\n",
       "      <td>1.4829</td>\n",
       "    </tr>\n",
       "    <tr>\n",
       "      <th>2011-05-02</th>\n",
       "      <td>1.4808</td>\n",
       "      <td>1.4901</td>\n",
       "      <td>1.4763</td>\n",
       "      <td>1.4829</td>\n",
       "      <td>65625</td>\n",
       "      <td>1.476460</td>\n",
       "      <td>77.759672</td>\n",
       "      <td>1.4824</td>\n",
       "    </tr>\n",
       "    <tr>\n",
       "      <th>2011-05-03</th>\n",
       "      <td>1.4829</td>\n",
       "      <td>1.4889</td>\n",
       "      <td>1.4754</td>\n",
       "      <td>1.4824</td>\n",
       "      <td>69696</td>\n",
       "      <td>1.478440</td>\n",
       "      <td>77.052127</td>\n",
       "      <td>1.4826</td>\n",
       "    </tr>\n",
       "    <tr>\n",
       "      <th>2011-05-04</th>\n",
       "      <td>1.4824</td>\n",
       "      <td>1.4938</td>\n",
       "      <td>1.4775</td>\n",
       "      <td>1.4826</td>\n",
       "      <td>77608</td>\n",
       "      <td>1.479827</td>\n",
       "      <td>77.144555</td>\n",
       "      <td>1.4537</td>\n",
       "    </tr>\n",
       "    <tr>\n",
       "      <th>2011-05-05</th>\n",
       "      <td>1.4826</td>\n",
       "      <td>1.4898</td>\n",
       "      <td>1.4510</td>\n",
       "      <td>1.4537</td>\n",
       "      <td>83324</td>\n",
       "      <td>1.471118</td>\n",
       "      <td>46.848521</td>\n",
       "      <td>1.4313</td>\n",
       "    </tr>\n",
       "    <tr>\n",
       "      <th>2011-05-06</th>\n",
       "      <td>1.4537</td>\n",
       "      <td>1.4587</td>\n",
       "      <td>1.4312</td>\n",
       "      <td>1.4313</td>\n",
       "      <td>95919</td>\n",
       "      <td>1.457845</td>\n",
       "      <td>35.008313</td>\n",
       "      <td>1.4365</td>\n",
       "    </tr>\n",
       "    <tr>\n",
       "      <th>2011-05-09</th>\n",
       "      <td>1.4361</td>\n",
       "      <td>1.4441</td>\n",
       "      <td>1.4255</td>\n",
       "      <td>1.4365</td>\n",
       "      <td>87623</td>\n",
       "      <td>1.450730</td>\n",
       "      <td>38.985786</td>\n",
       "      <td>1.4409</td>\n",
       "    </tr>\n",
       "  </tbody>\n",
       "</table>\n",
       "</div>"
      ],
      "text/plain": [
       "              open    high     low   close volume       ema        rsi  \\\n",
       "date                                                                     \n",
       "2011-04-12  1.4434  1.4518  1.4377  1.4478  78914  1.440332  83.121597   \n",
       "2011-04-13  1.4478  1.4519  1.4413  1.4440  72407  1.441554  77.205469   \n",
       "2011-04-14  1.4440  1.4514  1.4365  1.4486  73809  1.443903  79.196976   \n",
       "2011-04-15  1.4486  1.4503  1.4390  1.4429  67446  1.443569  70.693348   \n",
       "2011-04-18  1.4416  1.4420  1.4157  1.4227  78429  1.436612  49.686256   \n",
       "2011-04-19  1.4227  1.4352  1.4205  1.4331  73380  1.435442  56.996482   \n",
       "2011-04-20  1.4331  1.4544  1.4328  1.4521  81284  1.440994  66.790908   \n",
       "2011-04-21  1.4521  1.4648  1.4505  1.4550  73069  1.445663  68.025930   \n",
       "2011-04-22  1.4550  1.4587  1.4534  1.4560  34293  1.449109  68.475120   \n",
       "2011-04-25  1.4560  1.4626  1.4525  1.4578  55776  1.452006  69.336674   \n",
       "2011-04-26  1.4578  1.4656  1.4493  1.4647  65412  1.456237  72.533810   \n",
       "2011-04-27  1.4647  1.4795  1.4632  1.4771  72419  1.463191  77.266772   \n",
       "2011-04-28  1.4772  1.4881  1.4771  1.4823  68646  1.469561  78.956410   \n",
       "2011-04-29  1.4823  1.4877  1.4803  1.4806  50086  1.473241  76.880764   \n",
       "2011-05-02  1.4808  1.4901  1.4763  1.4829  65625  1.476460  77.759672   \n",
       "2011-05-03  1.4829  1.4889  1.4754  1.4824  69696  1.478440  77.052127   \n",
       "2011-05-04  1.4824  1.4938  1.4775  1.4826  77608  1.479827  77.144555   \n",
       "2011-05-05  1.4826  1.4898  1.4510  1.4537  83324  1.471118  46.848521   \n",
       "2011-05-06  1.4537  1.4587  1.4312  1.4313  95919  1.457845  35.008313   \n",
       "2011-05-09  1.4361  1.4441  1.4255  1.4365  87623  1.450730  38.985786   \n",
       "\n",
       "           close_nextday  \n",
       "date                      \n",
       "2011-04-12        1.4440  \n",
       "2011-04-13        1.4486  \n",
       "2011-04-14        1.4429  \n",
       "2011-04-15        1.4227  \n",
       "2011-04-18        1.4331  \n",
       "2011-04-19        1.4521  \n",
       "2011-04-20        1.4550  \n",
       "2011-04-21        1.4560  \n",
       "2011-04-22        1.4578  \n",
       "2011-04-25        1.4647  \n",
       "2011-04-26        1.4771  \n",
       "2011-04-27        1.4823  \n",
       "2011-04-28        1.4806  \n",
       "2011-04-29        1.4829  \n",
       "2011-05-02        1.4824  \n",
       "2011-05-03        1.4826  \n",
       "2011-05-04        1.4537  \n",
       "2011-05-05        1.4313  \n",
       "2011-05-06        1.4365  \n",
       "2011-05-09        1.4409  "
      ]
     },
     "execution_count": 19,
     "metadata": {},
     "output_type": "execute_result"
    }
   ],
   "source": [
    "df.head(20)"
   ]
  },
  {
   "cell_type": "markdown",
   "metadata": {},
   "source": [
    "## Getting tweets"
   ]
  },
  {
   "cell_type": "code",
   "execution_count": 70,
   "metadata": {},
   "outputs": [],
   "source": [
    "max_tweets=10"
   ]
  },
  {
   "cell_type": "code",
   "execution_count": 71,
   "metadata": {},
   "outputs": [],
   "source": [
    "tweetCriteria = got.manager.TweetCriteria().setQuerySearch('EUR/USD')\\\n",
    "                                           .setSince(\"2019-01-01\")\\\n",
    "                                           .setUntil(\"2019-05-01\")\\\n",
    "                                           .setMaxTweets(max_tweets)\\\n",
    "                                           .setTopTweets(True)"
   ]
  },
  {
   "cell_type": "code",
   "execution_count": 72,
   "metadata": {},
   "outputs": [],
   "source": [
    "tweets_csv = open('tweets.csv', 'w')"
   ]
  },
  {
   "cell_type": "code",
   "execution_count": 73,
   "metadata": {},
   "outputs": [],
   "source": [
    "csvWriter = csv.writer(tweets_csv, delimiter=',')"
   ]
  },
  {
   "cell_type": "code",
   "execution_count": 74,
   "metadata": {},
   "outputs": [
    {
     "data": {
      "text/plain": [
       "41"
      ]
     },
     "execution_count": 74,
     "metadata": {},
     "output_type": "execute_result"
    }
   ],
   "source": [
    "csvWriter.writerow(['date', 'tweet_id', 'tweet_username','tweet_text'])"
   ]
  },
  {
   "cell_type": "code",
   "execution_count": 75,
   "metadata": {},
   "outputs": [],
   "source": [
    "for i in range(max_tweets):\n",
    "    tweet = got.manager.TweetManager.getTweets(tweetCriteria)[i]\n",
    "    csvWriter.writerow([tweet.date,tweet.id, tweet.username, tweet.text.encode('utf-8')])"
   ]
  },
  {
   "cell_type": "code",
   "execution_count": 76,
   "metadata": {},
   "outputs": [],
   "source": [
    "tweets_csv.close()"
   ]
  },
  {
   "cell_type": "code",
   "execution_count": 26,
   "metadata": {},
   "outputs": [],
   "source": [
    "tweets_df=pd.read_csv(\"tweets.csv\", index_col='date', parse_dates=True)"
   ]
  },
  {
   "cell_type": "code",
   "execution_count": 27,
   "metadata": {},
   "outputs": [
    {
     "data": {
      "text/html": [
       "<div>\n",
       "<style scoped>\n",
       "    .dataframe tbody tr th:only-of-type {\n",
       "        vertical-align: middle;\n",
       "    }\n",
       "\n",
       "    .dataframe tbody tr th {\n",
       "        vertical-align: top;\n",
       "    }\n",
       "\n",
       "    .dataframe thead th {\n",
       "        text-align: right;\n",
       "    }\n",
       "</style>\n",
       "<table border=\"1\" class=\"dataframe\">\n",
       "  <thead>\n",
       "    <tr style=\"text-align: right;\">\n",
       "      <th></th>\n",
       "      <th>tweet_id</th>\n",
       "      <th>tweet_username</th>\n",
       "      <th>tweet_text</th>\n",
       "    </tr>\n",
       "    <tr>\n",
       "      <th>date</th>\n",
       "      <th></th>\n",
       "      <th></th>\n",
       "      <th></th>\n",
       "    </tr>\n",
       "  </thead>\n",
       "  <tbody>\n",
       "    <tr>\n",
       "      <th>2019-04-30 19:49:35+00:00</th>\n",
       "      <td>1123313468394954752</td>\n",
       "      <td>waltervannelli</td>\n",
       "      <td>b'All set for the month! #Eur/usd P&amp;L daily -5...</td>\n",
       "    </tr>\n",
       "    <tr>\n",
       "      <th>2019-04-30 19:14:41+00:00</th>\n",
       "      <td>1123304685581086720</td>\n",
       "      <td>waltervannelli</td>\n",
       "      <td>b'#Eur/usd sold 2.5 lts a 1.1222. Short 12.5 l...</td>\n",
       "    </tr>\n",
       "    <tr>\n",
       "      <th>2019-04-30 15:07:38+00:00</th>\n",
       "      <td>1123242511080861697</td>\n",
       "      <td>waltervannelli</td>\n",
       "      <td>b'#Eur/usd moves down driven by eur/jpy still ...</td>\n",
       "    </tr>\n",
       "    <tr>\n",
       "      <th>2019-04-30 15:01:18+00:00</th>\n",
       "      <td>1123240919187300353</td>\n",
       "      <td>salahuddin2004</td>\n",
       "      <td>b'\\xf0\\x9d\\x95\\xae\\xf0\\x9d\\x96\\x94\\xf0\\x9d\\x96...</td>\n",
       "    </tr>\n",
       "    <tr>\n",
       "      <th>2019-04-30 14:29:28+00:00</th>\n",
       "      <td>1123232907311685633</td>\n",
       "      <td>ChrisFxTrader77</td>\n",
       "      <td>b'I have seen this kind of false move happen m...</td>\n",
       "    </tr>\n",
       "  </tbody>\n",
       "</table>\n",
       "</div>"
      ],
      "text/plain": [
       "                                      tweet_id   tweet_username  \\\n",
       "date                                                              \n",
       "2019-04-30 19:49:35+00:00  1123313468394954752   waltervannelli   \n",
       "2019-04-30 19:14:41+00:00  1123304685581086720   waltervannelli   \n",
       "2019-04-30 15:07:38+00:00  1123242511080861697   waltervannelli   \n",
       "2019-04-30 15:01:18+00:00  1123240919187300353   salahuddin2004   \n",
       "2019-04-30 14:29:28+00:00  1123232907311685633  ChrisFxTrader77   \n",
       "\n",
       "                                                                  tweet_text  \n",
       "date                                                                          \n",
       "2019-04-30 19:49:35+00:00  b'All set for the month! #Eur/usd P&L daily -5...  \n",
       "2019-04-30 19:14:41+00:00  b'#Eur/usd sold 2.5 lts a 1.1222. Short 12.5 l...  \n",
       "2019-04-30 15:07:38+00:00  b'#Eur/usd moves down driven by eur/jpy still ...  \n",
       "2019-04-30 15:01:18+00:00  b'\\xf0\\x9d\\x95\\xae\\xf0\\x9d\\x96\\x94\\xf0\\x9d\\x96...  \n",
       "2019-04-30 14:29:28+00:00  b'I have seen this kind of false move happen m...  "
      ]
     },
     "execution_count": 27,
     "metadata": {},
     "output_type": "execute_result"
    }
   ],
   "source": [
    "tweets_df.head()"
   ]
  },
  {
   "cell_type": "markdown",
   "metadata": {},
   "source": [
    "## Clearing tweets and getting sentiment"
   ]
  },
  {
   "cell_type": "code",
   "execution_count": 28,
   "metadata": {
    "scrolled": true
   },
   "outputs": [],
   "source": [
    "tweets_df['tweet_text_clean']=tweets_df['tweet_text'].apply(lambda row: ' '.join(re.sub(\"(@[A-Za-z0-9]+)|([^0-9A-Za-z \\t])|(\\w+:\\/\\/\\S+)\", \" \", row).split()))"
   ]
  },
  {
   "cell_type": "code",
   "execution_count": 29,
   "metadata": {},
   "outputs": [
    {
     "data": {
      "text/html": [
       "<div>\n",
       "<style scoped>\n",
       "    .dataframe tbody tr th:only-of-type {\n",
       "        vertical-align: middle;\n",
       "    }\n",
       "\n",
       "    .dataframe tbody tr th {\n",
       "        vertical-align: top;\n",
       "    }\n",
       "\n",
       "    .dataframe thead th {\n",
       "        text-align: right;\n",
       "    }\n",
       "</style>\n",
       "<table border=\"1\" class=\"dataframe\">\n",
       "  <thead>\n",
       "    <tr style=\"text-align: right;\">\n",
       "      <th></th>\n",
       "      <th>tweet_id</th>\n",
       "      <th>tweet_username</th>\n",
       "      <th>tweet_text</th>\n",
       "      <th>tweet_text_clean</th>\n",
       "    </tr>\n",
       "    <tr>\n",
       "      <th>date</th>\n",
       "      <th></th>\n",
       "      <th></th>\n",
       "      <th></th>\n",
       "      <th></th>\n",
       "    </tr>\n",
       "  </thead>\n",
       "  <tbody>\n",
       "    <tr>\n",
       "      <th>2019-04-30 19:49:35+00:00</th>\n",
       "      <td>1123313468394954752</td>\n",
       "      <td>waltervannelli</td>\n",
       "      <td>b'All set for the month! #Eur/usd P&amp;L daily -5...</td>\n",
       "      <td>b All set for the month Eur usd P L daily 5 pi...</td>\n",
       "    </tr>\n",
       "    <tr>\n",
       "      <th>2019-04-30 19:14:41+00:00</th>\n",
       "      <td>1123304685581086720</td>\n",
       "      <td>waltervannelli</td>\n",
       "      <td>b'#Eur/usd sold 2.5 lts a 1.1222. Short 12.5 l...</td>\n",
       "      <td>b Eur usd sold 2 5 lts a 1 1222 Short 12 5 lot...</td>\n",
       "    </tr>\n",
       "    <tr>\n",
       "      <th>2019-04-30 15:07:38+00:00</th>\n",
       "      <td>1123242511080861697</td>\n",
       "      <td>waltervannelli</td>\n",
       "      <td>b'#Eur/usd moves down driven by eur/jpy still ...</td>\n",
       "      <td>b Eur usd moves down driven by eur jpy still s...</td>\n",
       "    </tr>\n",
       "    <tr>\n",
       "      <th>2019-04-30 15:01:18+00:00</th>\n",
       "      <td>1123240919187300353</td>\n",
       "      <td>salahuddin2004</td>\n",
       "      <td>b'\\xf0\\x9d\\x95\\xae\\xf0\\x9d\\x96\\x94\\xf0\\x9d\\x96...</td>\n",
       "      <td>b xf0 x9d x95 xae xf0 x9d x96 x94 xf0 x9d x96 ...</td>\n",
       "    </tr>\n",
       "    <tr>\n",
       "      <th>2019-04-30 14:29:28+00:00</th>\n",
       "      <td>1123232907311685633</td>\n",
       "      <td>ChrisFxTrader77</td>\n",
       "      <td>b'I have seen this kind of false move happen m...</td>\n",
       "      <td>b I have seen this kind of false move happen m...</td>\n",
       "    </tr>\n",
       "  </tbody>\n",
       "</table>\n",
       "</div>"
      ],
      "text/plain": [
       "                                      tweet_id   tweet_username  \\\n",
       "date                                                              \n",
       "2019-04-30 19:49:35+00:00  1123313468394954752   waltervannelli   \n",
       "2019-04-30 19:14:41+00:00  1123304685581086720   waltervannelli   \n",
       "2019-04-30 15:07:38+00:00  1123242511080861697   waltervannelli   \n",
       "2019-04-30 15:01:18+00:00  1123240919187300353   salahuddin2004   \n",
       "2019-04-30 14:29:28+00:00  1123232907311685633  ChrisFxTrader77   \n",
       "\n",
       "                                                                  tweet_text  \\\n",
       "date                                                                           \n",
       "2019-04-30 19:49:35+00:00  b'All set for the month! #Eur/usd P&L daily -5...   \n",
       "2019-04-30 19:14:41+00:00  b'#Eur/usd sold 2.5 lts a 1.1222. Short 12.5 l...   \n",
       "2019-04-30 15:07:38+00:00  b'#Eur/usd moves down driven by eur/jpy still ...   \n",
       "2019-04-30 15:01:18+00:00  b'\\xf0\\x9d\\x95\\xae\\xf0\\x9d\\x96\\x94\\xf0\\x9d\\x96...   \n",
       "2019-04-30 14:29:28+00:00  b'I have seen this kind of false move happen m...   \n",
       "\n",
       "                                                            tweet_text_clean  \n",
       "date                                                                          \n",
       "2019-04-30 19:49:35+00:00  b All set for the month Eur usd P L daily 5 pi...  \n",
       "2019-04-30 19:14:41+00:00  b Eur usd sold 2 5 lts a 1 1222 Short 12 5 lot...  \n",
       "2019-04-30 15:07:38+00:00  b Eur usd moves down driven by eur jpy still s...  \n",
       "2019-04-30 15:01:18+00:00  b xf0 x9d x95 xae xf0 x9d x96 x94 xf0 x9d x96 ...  \n",
       "2019-04-30 14:29:28+00:00  b I have seen this kind of false move happen m...  "
      ]
     },
     "execution_count": 29,
     "metadata": {},
     "output_type": "execute_result"
    }
   ],
   "source": [
    "tweets_df.head()"
   ]
  },
  {
   "cell_type": "code",
   "execution_count": 31,
   "metadata": {},
   "outputs": [],
   "source": [
    "tweets_df['tweet_sentiment']=tweets_df['tweet_text_clean'].apply(lambda row:1 if TextBlob(row).sentiment.polarity>0 else 0)"
   ]
  },
  {
   "cell_type": "code",
   "execution_count": 32,
   "metadata": {},
   "outputs": [
    {
     "data": {
      "text/html": [
       "<div>\n",
       "<style scoped>\n",
       "    .dataframe tbody tr th:only-of-type {\n",
       "        vertical-align: middle;\n",
       "    }\n",
       "\n",
       "    .dataframe tbody tr th {\n",
       "        vertical-align: top;\n",
       "    }\n",
       "\n",
       "    .dataframe thead th {\n",
       "        text-align: right;\n",
       "    }\n",
       "</style>\n",
       "<table border=\"1\" class=\"dataframe\">\n",
       "  <thead>\n",
       "    <tr style=\"text-align: right;\">\n",
       "      <th></th>\n",
       "      <th>tweet_id</th>\n",
       "      <th>tweet_username</th>\n",
       "      <th>tweet_text</th>\n",
       "      <th>tweet_text_clean</th>\n",
       "      <th>tweet_sentiment</th>\n",
       "    </tr>\n",
       "    <tr>\n",
       "      <th>date</th>\n",
       "      <th></th>\n",
       "      <th></th>\n",
       "      <th></th>\n",
       "      <th></th>\n",
       "      <th></th>\n",
       "    </tr>\n",
       "  </thead>\n",
       "  <tbody>\n",
       "    <tr>\n",
       "      <th>2019-04-30 19:49:35+00:00</th>\n",
       "      <td>1123313468394954752</td>\n",
       "      <td>waltervannelli</td>\n",
       "      <td>b'All set for the month! #Eur/usd P&amp;L daily -5...</td>\n",
       "      <td>b All set for the month Eur usd P L daily 5 pi...</td>\n",
       "      <td>1</td>\n",
       "    </tr>\n",
       "    <tr>\n",
       "      <th>2019-04-30 19:14:41+00:00</th>\n",
       "      <td>1123304685581086720</td>\n",
       "      <td>waltervannelli</td>\n",
       "      <td>b'#Eur/usd sold 2.5 lts a 1.1222. Short 12.5 l...</td>\n",
       "      <td>b Eur usd sold 2 5 lts a 1 1222 Short 12 5 lot...</td>\n",
       "      <td>0</td>\n",
       "    </tr>\n",
       "    <tr>\n",
       "      <th>2019-04-30 15:07:38+00:00</th>\n",
       "      <td>1123242511080861697</td>\n",
       "      <td>waltervannelli</td>\n",
       "      <td>b'#Eur/usd moves down driven by eur/jpy still ...</td>\n",
       "      <td>b Eur usd moves down driven by eur jpy still s...</td>\n",
       "      <td>0</td>\n",
       "    </tr>\n",
       "    <tr>\n",
       "      <th>2019-04-30 15:01:18+00:00</th>\n",
       "      <td>1123240919187300353</td>\n",
       "      <td>salahuddin2004</td>\n",
       "      <td>b'\\xf0\\x9d\\x95\\xae\\xf0\\x9d\\x96\\x94\\xf0\\x9d\\x96...</td>\n",
       "      <td>b xf0 x9d x95 xae xf0 x9d x96 x94 xf0 x9d x96 ...</td>\n",
       "      <td>0</td>\n",
       "    </tr>\n",
       "    <tr>\n",
       "      <th>2019-04-30 14:29:28+00:00</th>\n",
       "      <td>1123232907311685633</td>\n",
       "      <td>ChrisFxTrader77</td>\n",
       "      <td>b'I have seen this kind of false move happen m...</td>\n",
       "      <td>b I have seen this kind of false move happen m...</td>\n",
       "      <td>1</td>\n",
       "    </tr>\n",
       "  </tbody>\n",
       "</table>\n",
       "</div>"
      ],
      "text/plain": [
       "                                      tweet_id   tweet_username  \\\n",
       "date                                                              \n",
       "2019-04-30 19:49:35+00:00  1123313468394954752   waltervannelli   \n",
       "2019-04-30 19:14:41+00:00  1123304685581086720   waltervannelli   \n",
       "2019-04-30 15:07:38+00:00  1123242511080861697   waltervannelli   \n",
       "2019-04-30 15:01:18+00:00  1123240919187300353   salahuddin2004   \n",
       "2019-04-30 14:29:28+00:00  1123232907311685633  ChrisFxTrader77   \n",
       "\n",
       "                                                                  tweet_text  \\\n",
       "date                                                                           \n",
       "2019-04-30 19:49:35+00:00  b'All set for the month! #Eur/usd P&L daily -5...   \n",
       "2019-04-30 19:14:41+00:00  b'#Eur/usd sold 2.5 lts a 1.1222. Short 12.5 l...   \n",
       "2019-04-30 15:07:38+00:00  b'#Eur/usd moves down driven by eur/jpy still ...   \n",
       "2019-04-30 15:01:18+00:00  b'\\xf0\\x9d\\x95\\xae\\xf0\\x9d\\x96\\x94\\xf0\\x9d\\x96...   \n",
       "2019-04-30 14:29:28+00:00  b'I have seen this kind of false move happen m...   \n",
       "\n",
       "                                                            tweet_text_clean  \\\n",
       "date                                                                           \n",
       "2019-04-30 19:49:35+00:00  b All set for the month Eur usd P L daily 5 pi...   \n",
       "2019-04-30 19:14:41+00:00  b Eur usd sold 2 5 lts a 1 1222 Short 12 5 lot...   \n",
       "2019-04-30 15:07:38+00:00  b Eur usd moves down driven by eur jpy still s...   \n",
       "2019-04-30 15:01:18+00:00  b xf0 x9d x95 xae xf0 x9d x96 x94 xf0 x9d x96 ...   \n",
       "2019-04-30 14:29:28+00:00  b I have seen this kind of false move happen m...   \n",
       "\n",
       "                           tweet_sentiment  \n",
       "date                                        \n",
       "2019-04-30 19:49:35+00:00                1  \n",
       "2019-04-30 19:14:41+00:00                0  \n",
       "2019-04-30 15:07:38+00:00                0  \n",
       "2019-04-30 15:01:18+00:00                0  \n",
       "2019-04-30 14:29:28+00:00                1  "
      ]
     },
     "execution_count": 32,
     "metadata": {},
     "output_type": "execute_result"
    }
   ],
   "source": [
    "tweets_df.head()"
   ]
  },
  {
   "cell_type": "markdown",
   "metadata": {},
   "source": [
    "## Creating the RandomForestRegressor"
   ]
  },
  {
   "cell_type": "code",
   "execution_count": 19,
   "metadata": {},
   "outputs": [],
   "source": [
    "x=df.iloc[:,0:7].values # selected features"
   ]
  },
  {
   "cell_type": "code",
   "execution_count": 20,
   "metadata": {},
   "outputs": [],
   "source": [
    "y=df.iloc[:,7].values# labels"
   ]
  },
  {
   "cell_type": "code",
   "execution_count": 21,
   "metadata": {},
   "outputs": [],
   "source": [
    "x_train, x_test, y_train, y_test=train_test_split(x, y, test_size=0.3)"
   ]
  },
  {
   "cell_type": "code",
   "execution_count": 22,
   "metadata": {},
   "outputs": [],
   "source": [
    "model=RandomForestRegressor(n_estimators=20, max_features=\"sqrt\", max_depth=10,random_state=1)"
   ]
  },
  {
   "cell_type": "code",
   "execution_count": 23,
   "metadata": {},
   "outputs": [
    {
     "data": {
      "text/plain": [
       "RandomForestRegressor(bootstrap=True, criterion='mse', max_depth=10,\n",
       "           max_features='sqrt', max_leaf_nodes=None,\n",
       "           min_impurity_decrease=0.0, min_impurity_split=None,\n",
       "           min_samples_leaf=1, min_samples_split=2,\n",
       "           min_weight_fraction_leaf=0.0, n_estimators=20, n_jobs=None,\n",
       "           oob_score=False, random_state=1, verbose=0, warm_start=False)"
      ]
     },
     "execution_count": 23,
     "metadata": {},
     "output_type": "execute_result"
    }
   ],
   "source": [
    "model.fit(x_train, y_train)"
   ]
  },
  {
   "cell_type": "code",
   "execution_count": 24,
   "metadata": {},
   "outputs": [
    {
     "data": {
      "text/plain": [
       "array([2.84005183e-01, 7.32907683e-02, 2.71914031e-01, 1.81793988e-01,\n",
       "       2.26221936e-02, 1.66124429e-01, 2.49407000e-04])"
      ]
     },
     "execution_count": 24,
     "metadata": {},
     "output_type": "execute_result"
    }
   ],
   "source": [
    "model.feature_importances_"
   ]
  },
  {
   "cell_type": "code",
   "execution_count": 25,
   "metadata": {},
   "outputs": [
    {
     "data": {
      "text/plain": [
       "0.9999204465375744"
      ]
     },
     "execution_count": 25,
     "metadata": {},
     "output_type": "execute_result"
    }
   ],
   "source": [
    "model.score(x_train, y_train)"
   ]
  },
  {
   "cell_type": "code",
   "execution_count": 26,
   "metadata": {},
   "outputs": [
    {
     "data": {
      "text/plain": [
       "0.9995764565794392"
      ]
     },
     "execution_count": 26,
     "metadata": {},
     "output_type": "execute_result"
    }
   ],
   "source": [
    "model.score(x_test, y_test)"
   ]
  },
  {
   "cell_type": "code",
   "execution_count": 27,
   "metadata": {},
   "outputs": [],
   "source": [
    "predictions=model.predict(x_test)"
   ]
  },
  {
   "cell_type": "code",
   "execution_count": 34,
   "metadata": {},
   "outputs": [],
   "source": [
    "points=range(y_test.shape[0])"
   ]
  },
  {
   "cell_type": "code",
   "execution_count": 35,
   "metadata": {},
   "outputs": [
    {
     "name": "stdout",
     "output_type": "stream",
     "text": [
      "range(0, 612)\n"
     ]
    }
   ],
   "source": [
    "print(points)"
   ]
  },
  {
   "cell_type": "code",
   "execution_count": 41,
   "metadata": {},
   "outputs": [
    {
     "name": "stdout",
     "output_type": "stream",
     "text": [
      "612\n"
     ]
    }
   ],
   "source": [
    "print(y_test.shape[0])"
   ]
  },
  {
   "cell_type": "code",
   "execution_count": 47,
   "metadata": {},
   "outputs": [
    {
     "data": {
      "image/png": "[encoded data removed]",
      "text/plain": [
       "<Figure size 432x288 with 1 Axes>"
      ]
     },
     "metadata": {
      "needs_background": "light"
     },
     "output_type": "display_data"
    }
   ],
   "source": [
    "fig, ax1=plt.subplots()"
   ]
  },
  {
   "cell_type": "code",
   "execution_count": 51,
   "metadata": {},
   "outputs": [
    {
     "data": {
      "image/png": "[encoded data removed]",
      "text/plain": [
       "<Figure size 432x288 with 1 Axes>"
      ]
     },
     "metadata": {
      "needs_background": "light"
     },
     "output_type": "display_data"
    }
   ],
   "source": [
    "ax1=plt.plot(points, y_test, color='blue')\n",
    "ax2=plt.plot(points, predictions, color='red')"
   ]
  },
  {
   "cell_type": "code",
   "execution_count": 50,
   "metadata": {},
   "outputs": [],
   "source": [
    "plt.show()"
   ]
  },
  {
   "cell_type": "code",
   "execution_count": null,
   "metadata": {},
   "outputs": [],
   "source": []
  },
  {
   "cell_type": "code",
   "execution_count": null,
   "metadata": {},
   "outputs": [],
   "source": []
  }
 ],
 "metadata": {
  "kernelspec": {
   "display_name": "Python 3",
   "language": "python",
   "name": "python3"
  },
  "language_info": {
   "codemirror_mode": {
    "name": "ipython",
    "version": 3
   },
   "file_extension": ".py",
   "mimetype": "text/x-python",
   "name": "python",
   "nbconvert_exporter": "python",
   "pygments_lexer": "ipython3",
   "version": "3.7.0"
  }
 },
 "nbformat": 4,
 "nbformat_minor": 2
}
